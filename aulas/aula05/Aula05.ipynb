{
 "cells": [
  {
   "cell_type": "markdown",
   "metadata": {
    "vscode": {
     "languageId": "bat"
    }
   },
   "source": [
    "# Aula 05 - Introdução ao List Comprehension e Format"
   ]
  },
  {
   "cell_type": "markdown",
   "metadata": {},
   "source": [
    ">Nessa aula iremos dar introdução ao list comprehension, uma forma mais simples de realizar conversões de valores entre duas ou mais listas. Autalmente é uma das formas mais rápidas de se aplicar conversões, substituindo as declarações mais extensas do que o metodo conversional, lambda e o map    "
   ]
  },
  {
   "cell_type": "markdown",
   "metadata": {},
   "source": [
    "## Exemplo 1 - Conversão de Celsius para Fahrenheit "
   ]
  },
  {
   "cell_type": "code",
   "execution_count": 10,
   "metadata": {},
   "outputs": [
    {
     "name": "stdout",
     "output_type": "stream",
     "text": [
      "[50.0, 68.0, 75.2, 95.0, 122.0]\n"
     ]
    }
   ],
   "source": [
    "celsius = [10,20,24,35,50]\n",
    "fahrenheit = [round(x*1.8+32,2) for x in celsius]\n",
    "print (fahrenheit)"
   ]
  },
  {
   "cell_type": "code",
   "execution_count": 13,
   "metadata": {},
   "outputs": [
    {
     "name": "stdout",
     "output_type": "stream",
     "text": [
      "Celsius Fahrenheit\n",
      "==================\n",
      "10      50.0  \n",
      "20      68.0  \n",
      "24      75.2  \n",
      "35      95.0  \n",
      "50      122.0 \n"
     ]
    }
   ],
   "source": [
    "print(\"{:<8}{:<6}\".format(\"Celsius\",\"Fahrenheit\"))\n",
    "print(\"==================\")\n",
    "x = 0\n",
    "while(x<len(celsius)):\n",
    "    print(\"{:<8}{:<6}\".format(celsius[x],fahrenheit[x]))\n",
    "    x +=1"
   ]
  },
  {
   "cell_type": "markdown",
   "metadata": {},
   "source": [
    "## Exemplo 2 - Conversão de Kmh para Mph"
   ]
  },
  {
   "cell_type": "code",
   "execution_count": 64,
   "metadata": {},
   "outputs": [
    {
     "name": "stdout",
     "output_type": "stream",
     "text": [
      "[24.84, 29.19, 34.16, 43.48, 52.8]\n"
     ]
    }
   ],
   "source": [
    "kmh = [40,47,55,70,85]\n",
    "mph = [round(x/1.61,2) for x in kmh]\n",
    "print(mph)"
   ]
  },
  {
   "cell_type": "code",
   "execution_count": 65,
   "metadata": {},
   "outputs": [
    {
     "name": "stdout",
     "output_type": "stream",
     "text": [
      "kmh   mph   \n",
      "===========\n",
      "40    24.84 \n",
      "47    29.19 \n",
      "55    34.16 \n",
      "70    43.48 \n",
      "85    52.8  \n"
     ]
    }
   ],
   "source": [
    "print(\"{:<6}{:<6}\".format(\"kmh\",\"mph\"))\n",
    "print(\"===========\")\n",
    "x = 0\n",
    "while(x<len(kmh)):\n",
    "    print(\"{:<6}{:<6}\".format(kmh[x],mph[x]))\n",
    "    x +=1"
   ]
  },
  {
   "cell_type": "markdown",
   "metadata": {},
   "source": [
    ">Crie uma lista com 10 valores em metros. Crie uma tabela de conversão para polegada, pés, jardas e milhas marítimas. Listando o número da linha e o cabeçalho da tabela."
   ]
  },
  {
   "cell_type": "code",
   "execution_count": 78,
   "metadata": {},
   "outputs": [
    {
     "name": "stdout",
     "output_type": "stream",
     "text": [
      "[1, 2, 3, 4, 5, 6, 7, 8, 9, 10]\n",
      "[0.76, 1.91, 2.26, 3.56, 3.81, 4.32, 5.08, 10.16, 12.7, 23.62]\n",
      "[9.14, 22.86, 27.13, 42.67, 45.72, 51.81, 60.96, 121.91, 152.39, 283.45]\n",
      "[27.42, 68.56, 81.35, 127.97, 137.11, 155.39, 182.82, 365.63, 457.04, 850.09]\n",
      "[0.019, 0.047, 0.055, 0.087, 0.093, 0.106, 0.124, 0.249, 0.311, 0.578]\n"
     ]
    }
   ],
   "source": [
    "numeros = [1,2,3,4,5,6,7,8,9,10]\n",
    "metros = [170,200,30,400,500,150,75,89,140,930]\n",
    "\n",
    "metros.sort()\n",
    "polegada = [round(x/39.37,2) for x in metros]\n",
    "pés = [round(x/3.281,2) for x in metros]\n",
    "jardas = [round(x/1.094,2) for x in metros]\n",
    "milhasmaritmas = [round((x*0.6214)/1000,3) for x in metros]\n",
    "\n",
    "print(numeros)\n",
    "print(polegada)\n",
    "print(pés)\n",
    "print(jardas)\n",
    "print(milhasmaritmas)\n",
    "\n"
   ]
  },
  {
   "cell_type": "code",
   "execution_count": 80,
   "metadata": {},
   "outputs": [
    {
     "name": "stdout",
     "output_type": "stream",
     "text": [
      "numeros   metros    polegada  pés       jardas    milhasmaritmas\n",
      "================================================================\n",
      "1         30        0.76      9.14      27.42     0.019     \n",
      "2         75        1.91      22.86     68.56     0.047     \n",
      "3         89        2.26      27.13     81.35     0.055     \n",
      "4         140       3.56      42.67     127.97    0.087     \n",
      "5         150       3.81      45.72     137.11    0.093     \n",
      "6         170       4.32      51.81     155.39    0.106     \n",
      "7         200       5.08      60.96     182.82    0.124     \n",
      "8         400       10.16     121.91    365.63    0.249     \n",
      "9         500       12.7      152.39    457.04    0.311     \n",
      "10        930       23.62     283.45    850.09    0.578     \n"
     ]
    }
   ],
   "source": [
    "print(\"{:<10}{:<10}{:<10}{:<10}{:<10}{:<10}\".format(\"numeros\",\"metros\",\"polegada\",\"pés\",\"jardas\",\"milhasmaritmas\"))\n",
    "print(\"================================================================\")\n",
    "x = 0\n",
    "while(x<len(metros)):\n",
    "    print(\"{:<10}{:<10}{:<10}{:<10}{:<10}{:<10}\".format(numeros[x],metros[x],polegada[x],pés[x],jardas[x],milhasmaritmas[x]))\n",
    "    x +=1\n"
   ]
  },
  {
   "cell_type": "markdown",
   "metadata": {},
   "source": [
    "# Exercício 2 "
   ]
  },
  {
   "cell_type": "markdown",
   "metadata": {},
   "source": [
    ">Crie uma lista com 10 valores em Kelvin. Crie uma tabela de conversão para Celsius e Fahrenheit, listando o número da linha e o cabeçalho da tabela."
   ]
  },
  {
   "cell_type": "code",
   "execution_count": 93,
   "metadata": {},
   "outputs": [
    {
     "name": "stdout",
     "output_type": "stream",
     "text": [
      "Nº  Kº       Cº      Fº      \n",
      "==============================\n"
     ]
    },
    {
     "ename": "IndexError",
     "evalue": "Replacement index 3 out of range for positional args tuple",
     "output_type": "error",
     "traceback": [
      "\u001b[1;31m---------------------------------------------------------------------------\u001b[0m",
      "\u001b[1;31mIndexError\u001b[0m                                Traceback (most recent call last)",
      "Cell \u001b[1;32mIn[93], line 10\u001b[0m\n\u001b[0;32m      8\u001b[0m x \u001b[38;5;241m=\u001b[39m \u001b[38;5;241m0\u001b[39m\n\u001b[0;32m      9\u001b[0m \u001b[38;5;28;01mwhile\u001b[39;00m(x\u001b[38;5;241m<\u001b[39m\u001b[38;5;28mlen\u001b[39m(k)):\n\u001b[1;32m---> 10\u001b[0m     \u001b[38;5;28mprint\u001b[39m(\u001b[38;5;124;43m\"\u001b[39;49m\u001b[38;5;132;43;01m{:<4}\u001b[39;49;00m\u001b[38;5;132;43;01m{:<9}\u001b[39;49;00m\u001b[38;5;132;43;01m{:<8}\u001b[39;49;00m\u001b[38;5;132;43;01m{:<8}\u001b[39;49;00m\u001b[38;5;124;43m\"\u001b[39;49m\u001b[38;5;241;43m.\u001b[39;49m\u001b[43mformat\u001b[49m\u001b[43m(\u001b[49m\u001b[43mk\u001b[49m\u001b[43m[\u001b[49m\u001b[43mx\u001b[49m\u001b[43m]\u001b[49m\u001b[43m,\u001b[49m\u001b[43mc\u001b[49m\u001b[43m[\u001b[49m\u001b[43mx\u001b[49m\u001b[43m]\u001b[49m\u001b[43m,\u001b[49m\u001b[43mf\u001b[49m\u001b[43m[\u001b[49m\u001b[43mx\u001b[49m\u001b[43m]\u001b[49m\u001b[43m)\u001b[49m)\n\u001b[0;32m     11\u001b[0m     x \u001b[38;5;241m+\u001b[39m\u001b[38;5;241m=\u001b[39m\u001b[38;5;241m1\u001b[39m\n",
      "\u001b[1;31mIndexError\u001b[0m: Replacement index 3 out of range for positional args tuple"
     ]
    }
   ],
   "source": [
    "\n",
    "k = [10,20,30,40,50,60,70,80,90,100]\n",
    "k.sort\n",
    "c = [round(x/39.37,2) for x in k]\n",
    "f = [round(x/3.281,2) for x in k]\n",
    "\n",
    "print(\"{:<4}{:<9}{:<8}{:<8}\".format(\"Nº\",\"Kº\",\"Cº\",\"Fº\"))\n",
    "print(\"==============================\")\n",
    "for v in range (0)\n",
    "    print(\"{:<4}{:<9}{:<8}{:<8}\".format(k[x],c[x],f[x]))\n",
    "    x +=1\n"
   ]
  },
  {
   "cell_type": "markdown",
   "metadata": {},
   "source": [
    "## Exercício 3 \n",
    ">Crie uma lista com 10 pesos em kilos. Faça a conversão para o peso na Terra, Lua, Júpiter, Saturno e Mercúrio. Monte uma tabela com o cabeçalho e a numeração conforme os exercícios passados."
   ]
  },
  {
   "cell_type": "markdown",
   "metadata": {},
   "source": []
  }
 ],
 "metadata": {
  "kernelspec": {
   "display_name": "Python 3",
   "language": "python",
   "name": "python3"
  },
  "language_info": {
   "codemirror_mode": {
    "name": "ipython",
    "version": 3
   },
   "file_extension": ".py",
   "mimetype": "text/x-python",
   "name": "python",
   "nbconvert_exporter": "python",
   "pygments_lexer": "ipython3",
   "version": "3.12.2"
  }
 },
 "nbformat": 4,
 "nbformat_minor": 2
}
