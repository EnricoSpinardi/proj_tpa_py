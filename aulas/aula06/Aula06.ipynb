{
 "cells": [
  {
   "cell_type": "markdown",
   "metadata": {},
   "source": [
    "# Introdução a Tuplas e Dicionários"
   ]
  },
  {
   "cell_type": "code",
   "execution_count": null,
   "metadata": {},
   "outputs": [],
   "source": [
    "#o numero da lista começa em 0,1,2...\n",
    "lista = [2,5,9]\n",
    "lista[1]\n",
    "print (lista)"
   ]
  },
  {
   "cell_type": "markdown",
   "metadata": {},
   "source": [
    "## Introdução a Tuplas"
   ]
  },
  {
   "cell_type": "code",
   "execution_count": 1,
   "metadata": {},
   "outputs": [
    {
     "data": {
      "text/plain": [
       "8"
      ]
     },
     "execution_count": 1,
     "metadata": {},
     "output_type": "execute_result"
    }
   ],
   "source": [
    "# () -> parametro \n",
    "tupla = (6,8,9)\n",
    "tupla [1]"
   ]
  },
  {
   "cell_type": "code",
   "execution_count": null,
   "metadata": {},
   "outputs": [],
   "source": [
    "#append() é uma função interna usada para adicionar um item ao final de uma lista .\n",
    "# count() é uma função interna do Python que retorna o número de vezes que um objeto aparece em uma lista \n",
    "lista.append(7)\n",
    "print(lista)"
   ]
  },
  {
   "cell_type": "code",
   "execution_count": 3,
   "metadata": {},
   "outputs": [
    {
     "name": "stdout",
     "output_type": "stream",
     "text": [
      "(1, 5, 7)\n"
     ]
    }
   ],
   "source": [
    "# O que é concatenar algo? Encadear-se, juntar-se numa sequência lógica\n",
    "# numeros imutaveis/ tuplas imutaveis\n",
    "tupla = (1,5,7)\n",
    "print(tupla)"
   ]
  },
  {
   "cell_type": "code",
   "execution_count": 6,
   "metadata": {},
   "outputs": [
    {
     "ename": "TypeError",
     "evalue": "'tuple' object does not support item assignment",
     "output_type": "error",
     "traceback": [
      "\u001b[1;31m---------------------------------------------------------------------------\u001b[0m",
      "\u001b[1;31mTypeError\u001b[0m                                 Traceback (most recent call last)",
      "Cell \u001b[1;32mIn[6], line 1\u001b[0m\n\u001b[1;32m----> 1\u001b[0m \u001b[43mtupla\u001b[49m\u001b[43m \u001b[49m\u001b[43m[\u001b[49m\u001b[38;5;241;43m0\u001b[39;49m\u001b[43m]\u001b[49m \u001b[38;5;241m=\u001b[39m \u001b[38;5;241m1\u001b[39m\n",
      "\u001b[1;31mTypeError\u001b[0m: 'tuple' object does not support item assignment"
     ]
    }
   ],
   "source": [
    "# tupla não permite adiconar\n",
    "tupla [0] = 1"
   ]
  },
  {
   "cell_type": "markdown",
   "metadata": {},
   "source": [
    "## Introdução a Dicionários"
   ]
  },
  {
   "cell_type": "code",
   "execution_count": 97,
   "metadata": {},
   "outputs": [],
   "source": [
    "dicionario = {\n",
    "    'curso':'Desenvolvimento de Sistemas',\n",
    "    'ano': 2024,\n",
    "    'modulo':'Tecnicas de Programação e Algoritmos','professor':'gustavo'\n",
    "}"
   ]
  },
  {
   "cell_type": "code",
   "execution_count": 98,
   "metadata": {},
   "outputs": [
    {
     "name": "stdout",
     "output_type": "stream",
     "text": [
      "Desenvolvimento de Sistemas\n",
      "2024\n",
      "Tecnicas de Programação e Algoritmos\n",
      "gustavo\n"
     ]
    }
   ],
   "source": [
    "print (dicionario['curso'])\n",
    "print (dicionario['ano'])\n",
    "print (dicionario['modulo'])\n",
    "print (dicionario['professor'])"
   ]
  },
  {
   "cell_type": "code",
   "execution_count": 18,
   "metadata": {},
   "outputs": [
    {
     "name": "stdout",
     "output_type": "stream",
     "text": [
      "9.5\n"
     ]
    }
   ],
   "source": [
    "#mutavel\n",
    "dicionario['nota'] = 9.5\n",
    "print(dicionario['nota'])"
   ]
  },
  {
   "cell_type": "code",
   "execution_count": 19,
   "metadata": {},
   "outputs": [
    {
     "name": "stdout",
     "output_type": "stream",
     "text": [
      "{'curso': 'Desenvolvimento de Sistemas', 'ano': 2024, 'modulo': 'Tecnicas de Programação e Algoritmos', 'professor': 'gustavo', 'nota': 9.5}\n"
     ]
    }
   ],
   "source": [
    "#() para função\n",
    "#[] para uma lista\n",
    "# {} para um dicionario\n",
    "# def exemplo(), print(\"oi\"), etc\n",
    "#lista = [1 , 2 , 3, \"oi\" ] <--- para uma lista\n",
    "#dic = {\"parenteses\": \"função\", \"colchetes\":\"lista\", \"chaves\": \"dicionário\" } <--- para uma dicionário\n",
    "\n",
    "print(dicionario)"
   ]
  },
  {
   "cell_type": "code",
   "execution_count": 23,
   "metadata": {},
   "outputs": [
    {
     "name": "stdout",
     "output_type": "stream",
     "text": [
      "Desenvolvimento de Sistemas\n",
      "2024\n",
      "Tecnicas de Programação e Algoritmos\n",
      "gustavo\n",
      "9.5\n"
     ]
    }
   ],
   "source": [
    "for x in dicionario.values():\n",
    "    print(x)"
   ]
  },
  {
   "cell_type": "code",
   "execution_count": 22,
   "metadata": {},
   "outputs": [
    {
     "name": "stdout",
     "output_type": "stream",
     "text": [
      "curso\n",
      "ano\n",
      "modulo\n",
      "professor\n",
      "nota\n"
     ]
    }
   ],
   "source": [
    "for x in dicionario.keys():\n",
    "    print(x)"
   ]
  },
  {
   "cell_type": "code",
   "execution_count": 33,
   "metadata": {},
   "outputs": [
    {
     "ename": "IndentationError",
     "evalue": "unexpected indent (1326073547.py, line 2)",
     "output_type": "error",
     "traceback": [
      "\u001b[1;36m  Cell \u001b[1;32mIn[33], line 2\u001b[1;36m\u001b[0m\n\u001b[1;33m    print(dicionario.values())\u001b[0m\n\u001b[1;37m    ^\u001b[0m\n\u001b[1;31mIndentationError\u001b[0m\u001b[1;31m:\u001b[0m unexpected indent\n"
     ]
    }
   ],
   "source": [
    "print(dicionario.keys())\n",
    "    print(dicionario.values())"
   ]
  },
  {
   "cell_type": "code",
   "execution_count": null,
   "metadata": {},
   "outputs": [],
   "source": [
    "dicionario.clear()\n",
    "print(dicionario)"
   ]
  },
  {
   "cell_type": "markdown",
   "metadata": {},
   "source": [
    "# Exercício 1"
   ]
  },
  {
   "cell_type": "markdown",
   "metadata": {},
   "source": [
    ">Crie 3 dicionarios: Matricula, Aluno e Disciplina. \n",
    ">>* A Matricula terá código da matricula, data_inscrição e curso; \n",
    ">>* O aluno terá registro e nome; \n",
    ">>* A disciplina terá registro, nome e Professor. \n",
    ">>* Ao final adicione os três dicionarios em uma tupla chamada escola."
   ]
  },
  {
   "cell_type": "code",
   "execution_count": 118,
   "metadata": {},
   "outputs": [
    {
     "name": "stdout",
     "output_type": "stream",
     "text": [
      "dict_values([123456, 240924, 'Desenvolvimento de Sistemas'])\n",
      "dict_values([240244, 'Enrico'])\n",
      "dict_values([2240807, 'Teoria da Programação e Algorítmo', 'Gustavo'])\n"
     ]
    }
   ],
   "source": [
    "matricula = {\n",
    "    'codigo:':123456,\n",
    "    'data_inscrição:':24_09_24,\n",
    "    'curso_escola:':'Desenvolvimento de Sistemas'\n",
    "}\n",
    "\n",
    "aluno={\n",
    "    'registro:':240244,\n",
    "    'nome':'Enrico'\n",
    "}\n",
    "\n",
    "disciplina = {\n",
    "    'registro_da_disciplina:':2240807,\n",
    "    'nome_da_disciplina:':'Teoria da Programação e Algorítmo',\n",
    "    'professor:':'Gustavo'\n",
    "}\n",
    "escola = (matricula,aluno,disciplina)\n",
    "for x in escola:\n",
    "    print(x.values())"
   ]
  },
  {
   "cell_type": "markdown",
   "metadata": {},
   "source": [
    "## Exercício 2\n",
    "> Crie três dicionarios para as seguintes tabelas: vendedor, produto e venda. \n",
    ">>O vendedor terá registro, nome e admissão; o produto terá o ID, nome, fabricante; A venda terá reg_vendedor, id_produto e valor. Após criação dos dicionários, adiconem a uma tupla chamada casas_baianao"
   ]
  },
  {
   "cell_type": "code",
   "execution_count": 124,
   "metadata": {},
   "outputs": [
    {
     "name": "stdout",
     "output_type": "stream",
     "text": [
      "{'registro_vendedor': 12345, 'nome_vendedor': 'João', 'admissão_vendedor': 200423}\n",
      "{'id': 9876, 'nome_produto': 'Geladeira', 'fabricante_produto': 'Panasonic'}\n",
      "{'reg_vendedor': 12345, 'id_produto': 9876, 'valor_produto': 'R$ 1.500'}\n"
     ]
    }
   ],
   "source": [
    "vendedor = {\n",
    "    'registro_vendedor': 12345,\n",
    "    'nome_vendedor':  'João',\n",
    "    'admissão_vendedor': 20_04_2023\n",
    "}\n",
    "\n",
    "produto = {\n",
    "    'id': 9876,\n",
    "    'nome_produto': 'Geladeira', \n",
    "    'fabricante_produto': 'Panasonic'\n",
    "}\n",
    "\n",
    "venda = {\n",
    "    'reg_vendedor': 12345,\n",
    "    'id_produto': 9876,\n",
    "    'valor_produto': 'R$ 1.500'\n",
    "}\n",
    "casas_baiano = (vendedor,produto,venda)\n",
    "for x in casas_baiano:\n",
    "    print(x)"
   ]
  }
 ],
 "metadata": {
  "kernelspec": {
   "display_name": "Python 3",
   "language": "python",
   "name": "python3"
  },
  "language_info": {
   "codemirror_mode": {
    "name": "ipython",
    "version": 3
   },
   "file_extension": ".py",
   "mimetype": "text/x-python",
   "name": "python",
   "nbconvert_exporter": "python",
   "pygments_lexer": "ipython3",
   "version": "3.12.2"
  }
 },
 "nbformat": 4,
 "nbformat_minor": 2
}
